{
 "cells": [
  {
   "cell_type": "markdown",
   "metadata": {},
   "source": [
    "##연습문제1103"
   ]
  },
  {
   "cell_type": "code",
   "execution_count": 2,
   "metadata": {},
   "outputs": [],
   "source": [
    "#1. 양의 정수 N을 입력으로 받아 1부터 N까지 제곱의 합과 합의 제곱을 구하시오."
   ]
  },
  {
   "cell_type": "code",
   "execution_count": null,
   "metadata": {},
   "outputs": [],
   "source": [
    "n= int(input('양의정수 입력'))\n",
    "def ss(n) :\n",
    "    sum_squared = 0\n",
    "    for i in range(1,n+1):\n",
    "        sum_squared += i*i\n",
    "        squared_sum = ?\n",
    "print('제곱의 합:',sum_squared)\n",
    "print('합의 제곱:',squared_sum)\n"
   ]
  }
 ],
 "metadata": {
  "kernelspec": {
   "display_name": "Python 3",
   "language": "python",
   "name": "python3"
  },
  "language_info": {
   "codemirror_mode": {
    "name": "ipython",
    "version": 3
   },
   "file_extension": ".py",
   "mimetype": "text/x-python",
   "name": "python",
   "nbconvert_exporter": "python",
   "pygments_lexer": "ipython3",
   "version": "3.8.3"
  }
 },
 "nbformat": 4,
 "nbformat_minor": 4
}
