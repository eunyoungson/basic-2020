{
 "cells": [
  {
   "cell_type": "markdown",
   "metadata": {},
   "source": [
    "## 위치인수, 키워드 인수"
   ]
  },
  {
   "cell_type": "code",
   "execution_count": 1,
   "metadata": {},
   "outputs": [],
   "source": [
    "def print_numbers(a, b, c):\n",
    "    print(a)\n",
    "    print(b)\n",
    "    print(c)"
   ]
  },
  {
   "cell_type": "code",
   "execution_count": 2,
   "metadata": {},
   "outputs": [
    {
     "name": "stdout",
     "output_type": "stream",
     "text": [
      "10 20 30\n"
     ]
    }
   ],
   "source": [
    " print(10, 20, 30)"
   ]
  },
  {
   "cell_type": "code",
   "execution_count": 3,
   "metadata": {},
   "outputs": [
    {
     "name": "stdout",
     "output_type": "stream",
     "text": [
      "10\n",
      "20\n",
      "30\n"
     ]
    }
   ],
   "source": [
    "x=[10,20,30]\n",
    "print_numbers(*x) # * 은 각줄에 하나씩 출력시킴"
   ]
  },
  {
   "cell_type": "code",
   "execution_count": 4,
   "metadata": {},
   "outputs": [
    {
     "name": "stdout",
     "output_type": "stream",
     "text": [
      "40\n",
      "50\n",
      "60\n"
     ]
    }
   ],
   "source": [
    "print_numbers(*(40,50,60))"
   ]
  },
  {
   "cell_type": "code",
   "execution_count": 5,
   "metadata": {},
   "outputs": [],
   "source": [
    "def print_numbers(*args):\n",
    "    for arg in args:\n",
    "        print(arg)"
   ]
  },
  {
   "cell_type": "code",
   "execution_count": 6,
   "metadata": {},
   "outputs": [
    {
     "name": "stdout",
     "output_type": "stream",
     "text": [
      "40\n",
      "50\n",
      "60\n"
     ]
    }
   ],
   "source": [
    "print_numbers(40,50,60)"
   ]
  },
  {
   "cell_type": "code",
   "execution_count": 7,
   "metadata": {},
   "outputs": [
    {
     "name": "stdout",
     "output_type": "stream",
     "text": [
      "10\n",
      "20\n",
      "30\n",
      "40\n",
      "50\n",
      "60\n"
     ]
    }
   ],
   "source": [
    "def print_numbers(a, *args): # 고정인수(a)가 가변인수(*args) 보다 먼저 나온다!\n",
    "    print(a)\n",
    "    for arg in args:\n",
    "        print(arg)\n",
    "print_numbers(10,20,30,40,50,60) "
   ]
  },
  {
   "cell_type": "code",
   "execution_count": 8,
   "metadata": {},
   "outputs": [],
   "source": [
    "def personal_info(name, age, address):\n",
    "    print('이름: ', name)\n",
    "    print('나이: ', age)\n",
    "    print('주소: ', address)"
   ]
  },
  {
   "cell_type": "code",
   "execution_count": 10,
   "metadata": {},
   "outputs": [
    {
     "name": "stdout",
     "output_type": "stream",
     "text": [
      "이름:  홍길동\n",
      "나이:  30\n",
      "주소:  서울시 용산구 이촌동\n"
     ]
    }
   ],
   "source": [
    "x = {'name': '홍길동', 'age': 30, 'address': '서울시 용산구 이촌동'}\n",
    "personal_info(**x) # 딕셔너리는 별이 두개! 딕셔너리는 키-값 쌍 형태로 값이 저장되어 있기 때문"
   ]
  },
  {
   "cell_type": "code",
   "execution_count": 11,
   "metadata": {},
   "outputs": [
    {
     "name": "stdout",
     "output_type": "stream",
     "text": [
      "이름:  name\n",
      "나이:  age\n",
      "주소:  address\n"
     ]
    }
   ],
   "source": [
    "personal_info(*x) # 한개이면 키값만"
   ]
  },
  {
   "cell_type": "code",
   "execution_count": 12,
   "metadata": {},
   "outputs": [],
   "source": [
    "### 가변 키워드 인수를 갖는 함수 만들기"
   ]
  },
  {
   "cell_type": "code",
   "execution_count": 14,
   "metadata": {},
   "outputs": [],
   "source": [
    " def personal_info(**kwargs):\n",
    "        for kw, arg in kwargs.items():\n",
    "            print(kw, ': ', arg, sep='')"
   ]
  },
  {
   "cell_type": "code",
   "execution_count": 15,
   "metadata": {},
   "outputs": [
    {
     "name": "stdout",
     "output_type": "stream",
     "text": [
      "name: 홍길동\n"
     ]
    }
   ],
   "source": [
    "personal_info(name='홍길동')"
   ]
  },
  {
   "cell_type": "code",
   "execution_count": 16,
   "metadata": {},
   "outputs": [
    {
     "name": "stdout",
     "output_type": "stream",
     "text": [
      "name: 홍길동\n",
      "old: 30\n",
      "address: 서울시 용산구 이촌동\n"
     ]
    }
   ],
   "source": [
    "personal_info(**{'name': '홍길동', 'old': 30, 'address':'서울시 용산구 이촌동'})"
   ]
  },
  {
   "cell_type": "code",
   "execution_count": 17,
   "metadata": {},
   "outputs": [],
   "source": [
    "def personal_info(**kwargs):\n",
    "    if 'name' in kwargs:    # in으로 딕셔너리 안에 특정 키가 있는지 확인\n",
    "        print('이름: ', kwargs['name'])\n",
    "    if 'age' in kwargs:\n",
    "        print('나이: ', kwargs['age'])\n",
    "    if 'address' in kwargs:\n",
    "        print('주소: ', kwargs['address'])"
   ]
  },
  {
   "cell_type": "code",
   "execution_count": 18,
   "metadata": {},
   "outputs": [
    {
     "name": "stdout",
     "output_type": "stream",
     "text": [
      "이름:  홍길동\n",
      "주소:  서울시 용산구 이촌동\n"
     ]
    }
   ],
   "source": [
    "personal_info(**{'name': '홍길동', 'old': 30, 'address':'서울시 용산구 이촌동'})\n",
    "#old 가 없는데, 오류없이 올드 빼고 내보낸다."
   ]
  },
  {
   "cell_type": "code",
   "execution_count": 19,
   "metadata": {},
   "outputs": [
    {
     "name": "stdout",
     "output_type": "stream",
     "text": [
      "홍길동\n",
      "{'age': 30, 'address': '서울시 용산구 이촌동'}\n"
     ]
    }
   ],
   "source": [
    "def personal_info(name, **kwargs):\n",
    "    print(name)\n",
    "    print(kwargs)\n",
    "personal_info('홍길동', age=30, address='서울시 용산구 이촌동')"
   ]
  },
  {
   "cell_type": "code",
   "execution_count": 20,
   "metadata": {},
   "outputs": [],
   "source": [
    "#위치와 가변 함께 사용"
   ]
  },
  {
   "cell_type": "code",
   "execution_count": 21,
   "metadata": {},
   "outputs": [
    {
     "name": "stdout",
     "output_type": "stream",
     "text": [
      "1:2:3END\n"
     ]
    }
   ],
   "source": [
    "def custom_print(*args, **kwargs):\n",
    "    print(*args, **kwargs)\n",
    "custom_print(1, 2, 3, sep=':', end='END\\n')\n"
   ]
  },
  {
   "cell_type": "code",
   "execution_count": 24,
   "metadata": {},
   "outputs": [],
   "source": [
    "#고정인수,가변 위치인수, 키워드 인수 함께 사용\n",
    "def custom_print(a, b, *args, **kwargs):\n",
    "     print(a, b, *args, **kwargs)"
   ]
  },
  {
   "cell_type": "markdown",
   "metadata": {},
   "source": [
    "# 매개변수 초기값"
   ]
  },
  {
   "cell_type": "code",
   "execution_count": 25,
   "metadata": {},
   "outputs": [],
   "source": [
    " def personal_info(name, age, address='비공개'):\n",
    "        print('이름: ', name)\n",
    "        print('나이: ', age)\n",
    "        print('주소: ', address)"
   ]
  },
  {
   "cell_type": "code",
   "execution_count": 26,
   "metadata": {},
   "outputs": [
    {
     "name": "stdout",
     "output_type": "stream",
     "text": [
      "이름:  홍길동\n",
      "나이:  30\n",
      "주소:  비공개\n"
     ]
    }
   ],
   "source": [
    "personal_info('홍길동', 30)"
   ]
  },
  {
   "cell_type": "code",
   "execution_count": 27,
   "metadata": {},
   "outputs": [
    {
     "name": "stdout",
     "output_type": "stream",
     "text": [
      "이름:  홍길동\n",
      "나이:  30\n",
      "주소:  서울시 용산구 이촌동\n"
     ]
    }
   ],
   "source": [
    "personal_info('홍길동', 30, '서울시 용산구 이촌동')"
   ]
  },
  {
   "cell_type": "code",
   "execution_count": 29,
   "metadata": {},
   "outputs": [],
   "source": [
    " def personal_info(name,  address='비공개', age=0):  #옵션은 뒤에 나와야하지만, 에이지 0으로 주면 가능\n",
    "        print('이름: ', name)\n",
    "        print('나이: ', age)\n",
    "        print('주소: ', address) "
   ]
  },
  {
   "cell_type": "code",
   "execution_count": 30,
   "metadata": {},
   "outputs": [
    {
     "name": "stdout",
     "output_type": "stream",
     "text": [
      "높은 점수: 100\n",
      "높은 점수: 91\n"
     ]
    }
   ],
   "source": [
    "korean, english, mathematics, science = 100, 86, 81, 91\n",
    "def get_max_score(*args):\n",
    "    return max(args)\n",
    "\n",
    "max_score = get_max_score(korean, english, mathematics, science)\n",
    "print('높은 점수:', max_score)\n",
    " \n",
    "max_score = get_max_score(english, science)\n",
    "print('높은 점수:', max_score)\n"
   ]
  },
  {
   "cell_type": "code",
   "execution_count": null,
   "metadata": {},
   "outputs": [],
   "source": [
    "korean, english, mathematics, science = map(int, input().split())\n",
    "def get_min_max_score(*arg):\n",
    "    return min(arg)\n",
    "    return max(arg)\n",
    "\n",
    "def get_average_score(**arg):\n",
    "    return average(arg)\n",
    "min_score, max_score = get_min_max_score(korean, english, mathematics, science)\n",
    "average_score = get_average(korean=korean, english=english,\n",
    "                            mathematics=mathematics, science=science)\n",
    "print('낮은 점수: {0:.2f}, 높은 점수: {1:.2f}, 평균 점수: {2:.2f}'\n",
    "      .format(min_score, max_score, average_score))\n",
    " \n",
    "min_score, max_score = get_min_max_score(english, science)\n",
    "average_score = get_average(english=english, science=science)\n",
    "print('낮은 점수: {0:.2f}, 높은 점수: {1:.2f}, 평균 점수: {2:.2f}'\n",
    "      .format(min_score, max_score, average_score))"
   ]
  },
  {
   "cell_type": "code",
   "execution_count": 42,
   "metadata": {},
   "outputs": [],
   "source": [
    "def factorial(n):\n",
    "    if n == 0:\n",
    "        return 1\n",
    "    return n * factorial(n-1)"
   ]
  },
  {
   "cell_type": "code",
   "execution_count": 41,
   "metadata": {},
   "outputs": [
    {
     "data": {
      "text/plain": [
       "24"
      ]
     },
     "execution_count": 41,
     "metadata": {},
     "output_type": "execute_result"
    }
   ],
   "source": [
    "factorial(4)"
   ]
  },
  {
   "cell_type": "code",
   "execution_count": 37,
   "metadata": {},
   "outputs": [],
   "source": [
    "def fibo(n):\n",
    "    if n == 0 or n == 1 :\n",
    "        return 1\n",
    "    return fibo(n-1) + fibo(n-2)"
   ]
  },
  {
   "cell_type": "code",
   "execution_count": 38,
   "metadata": {},
   "outputs": [
    {
     "name": "stdout",
     "output_type": "stream",
     "text": [
      "1 1\n",
      "2 2\n",
      "3 3\n",
      "4 5\n",
      "5 8\n",
      "6 13\n",
      "7 21\n",
      "8 34\n",
      "9 55\n",
      "10 89\n"
     ]
    }
   ],
   "source": [
    "for i in range(1,11):\n",
    "    print(i, fibo(i))"
   ]
  },
  {
   "cell_type": "code",
   "execution_count": 39,
   "metadata": {},
   "outputs": [],
   "source": [
    "def series(n):\n",
    "    if n == 0:\n",
    "        return 0\n",
    "    if n ==1:\n",
    "        return 1\n",
    "    return 3 * series(n-1) + 5 * series(n-2)"
   ]
  },
  {
   "cell_type": "code",
   "execution_count": 40,
   "metadata": {},
   "outputs": [
    {
     "name": "stdout",
     "output_type": "stream",
     "text": [
      "1 1\n",
      "2 3\n",
      "3 14\n",
      "4 57\n",
      "5 241\n",
      "6 1008\n",
      "7 4229\n",
      "8 17727\n",
      "9 74326\n",
      "10 311613\n"
     ]
    }
   ],
   "source": [
    "for i in range(1,11):\n",
    "    print(i, series(i))"
   ]
  },
  {
   "cell_type": "code",
   "execution_count": null,
   "metadata": {},
   "outputs": [],
   "source": []
  }
 ],
 "metadata": {
  "kernelspec": {
   "display_name": "Python 3",
   "language": "python",
   "name": "python3"
  },
  "language_info": {
   "codemirror_mode": {
    "name": "ipython",
    "version": 3
   },
   "file_extension": ".py",
   "mimetype": "text/x-python",
   "name": "python",
   "nbconvert_exporter": "python",
   "pygments_lexer": "ipython3",
   "version": "3.8.3"
  }
 },
 "nbformat": 4,
 "nbformat_minor": 4
}
