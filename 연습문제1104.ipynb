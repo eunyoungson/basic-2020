{
 "metadata": {
  "language_info": {
   "codemirror_mode": {
    "name": "ipython",
    "version": 3
   },
   "file_extension": ".py",
   "mimetype": "text/x-python",
   "name": "python",
   "nbconvert_exporter": "python",
   "pygments_lexer": "ipython3",
   "version": "3.8.3-final"
  },
  "orig_nbformat": 2,
  "kernelspec": {
   "name": "python3",
   "display_name": "Python 3"
  }
 },
 "nbformat": 4,
 "nbformat_minor": 2,
 "cells": [
  {
   "cell_type": "code",
   "execution_count": 1,
   "metadata": {},
   "outputs": [],
   "source": [
    "#1. 양의 정수 N을 입력으로 받아 1부터 N까지 제곱의 합과 합의 제곱을 구하시오."
   ]
  },
  {
   "cell_type": "code",
   "execution_count": 18,
   "metadata": {},
   "outputs": [
    {
     "output_type": "stream",
     "name": "stdout",
     "text": [
      "양의 정수는: 10\n제곱의 합: 385\n합의 제곱: 3025\n"
     ]
    }
   ],
   "source": [
    "def sum_squared(n) :\n",
    "    sum_squared = 0\n",
    "    for i in range(1,n+1):\n",
    "        sum_squared += i*i\n",
    "\n",
    "    return sum_squared\n",
    "\n",
    "def square_sumed(n) :\n",
    "    result = 0\n",
    "    for i in range(1,n+1):\n",
    "        result += i\n",
    "\n",
    "    square_sumed = result * result\n",
    "    return square_sumed\n",
    "\n",
    "n= int(input('양의정수 입력'))\n",
    "print('양의 정수는:',n)        \n",
    "print('제곱의 합:',sum_squared(n))\n",
    "print('합의 제곱:',square_sumed(n))"
   ]
  },
  {
   "cell_type": "code",
   "execution_count": 4,
   "metadata": {},
   "outputs": [
    {
     "output_type": "stream",
     "name": "stdout",
     "text": [
      "만족하는 수는 200,375,425 입니다.\n"
     ]
    }
   ],
   "source": [
    "#2 a + b + c = 1000 인 피타고라스 수를 구하시오.\n",
    "class FindException(Exception):\n",
    "    def __init__(self, msg):\n",
    "        super().__init__(msg)\n",
    "try:\n",
    "    for a in range(1,1000):\n",
    "        for b in range(a+1,1000):\n",
    "            c=1000 -(a+b)\n",
    "            if a*a + b*b == c*c:\n",
    "                raise FindException(f'만족하는 수는 {a},{b},{c} 입니다.')\n",
    "except Exception as e :\n",
    "    print(e)"
   ]
  },
  {
   "cell_type": "code",
   "execution_count": 5,
   "metadata": {},
   "outputs": [
    {
     "output_type": "stream",
     "name": "stdout",
     "text": [
      "29700\n"
     ]
    }
   ],
   "source": [
    "#3 디지털 시계에 하루동안(00:00~23:59) 3이 표시되는 시간을 초로 환산하면 총 몇 초(second) 인가?\n",
    "t = 0\n",
    "for h in range(0,24):\n",
    "    for m in range(1,61):\n",
    "        if '3' in str(h) or '3' in str(m):\n",
    "             t += 60\n",
    "print(s)\n"
   ]
  },
  {
   "cell_type": "code",
   "execution_count": 6,
   "metadata": {},
   "outputs": [
    {
     "output_type": "stream",
     "name": "stdout",
     "text": [
      "{'1': 301, '2': 300, '3': 300, '4': 300, '5': 300, '6': 300, '7': 300, '8': 300, '9': 300, '0': 192}\n"
     ]
    }
   ],
   "source": [
    "#4 1에서 1000까지 각 숫자의 갯수를 구하시오.\n",
    "n_list = []\n",
    "for n in range(1,1001):\n",
    "    n_list +=list(str(n))\n",
    "n_dic = {}\n",
    "for n in n_list:\n",
    "    if n in n_dic.keys():\n",
    "        n_dic[n] += 1\n",
    "    else:\n",
    "        n_dic.update({n:1})\n",
    "print(n_dic)"
   ]
  },
  {
   "cell_type": "code",
   "execution_count": 7,
   "metadata": {},
   "outputs": [
    {
     "output_type": "stream",
     "name": "stdout",
     "text": [
      "836 698896\n"
     ]
    }
   ],
   "source": [
    "#5 세자리 수를 곱해 만들 수 있는 가장 큰 대칭수(palindrome)와 세자리 수를 구하시오.\n",
    "def is_palindrome(num):\n",
    "    if len(num)<2:\n",
    "        return True\n",
    "    if num[0] != num[-1]:\n",
    "        return False\n",
    "    return is_palindrome(num[1:-1])\n",
    "x = 0\n",
    "y = 0\n",
    "for num in range(1,1000):\n",
    "    if is_palindrome(str(num*num)) == True:\n",
    "        if num>x:\n",
    "            x = num\n",
    "            y = num*num\n",
    "print(x,y)"
   ]
  },
  {
   "cell_type": "code",
   "execution_count": null,
   "metadata": {},
   "outputs": [],
   "source": [
    "#5\n",
    "maxpal=''\n",
    "max_list = []\n",
    "mx=0\n",
    "for i in range(100,1000):\n",
    "    for k in range(100,1000):\n",
    "        maxpal = str(i*k)\n",
    "        if i<k :\n",
    "            continue\n",
    "        if len(maxpal) == 6 :\n",
    "            if maxpal == maxpal[::-1]:\n",
    "                max_list.append((maxpal,i,k))\n",
    "                max(max_list)\n",
    "        \n",
    "print(max(max_list))"
   ]
  }
 ]
}