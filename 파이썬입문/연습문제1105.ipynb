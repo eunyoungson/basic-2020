{
 "metadata": {
  "language_info": {
   "codemirror_mode": {
    "name": "ipython",
    "version": 3
   },
   "file_extension": ".py",
   "mimetype": "text/x-python",
   "name": "python",
   "nbconvert_exporter": "python",
   "pygments_lexer": "ipython3",
   "version": "3.8.3-final"
  },
  "orig_nbformat": 2,
  "kernelspec": {
   "name": "python3",
   "display_name": "Python 3"
  }
 },
 "nbformat": 4,
 "nbformat_minor": 2,
 "cells": [
  {
   "cell_type": "code",
   "execution_count": 1,
   "metadata": {},
   "outputs": [
    {
     "output_type": "execute_result",
     "data": {
      "text/plain": [
       "'PILE OF POO'"
      ]
     },
     "metadata": {},
     "execution_count": 1
    }
   ],
   "source": [
    "#12.1\n",
    "import unicodedata\n",
    "mystery = '\\U0001f4a9'\n",
    "\n",
    "unicodedata.name(mystery)"
   ]
  },
  {
   "cell_type": "code",
   "execution_count": 4,
   "metadata": {},
   "outputs": [
    {
     "output_type": "execute_result",
     "data": {
      "text/plain": [
       "1"
      ]
     },
     "metadata": {},
     "execution_count": 4
    }
   ],
   "source": [
    "pop_bytes1 = '\\U0001f4a9'\n",
    "len(pop_bytes1)"
   ]
  },
  {
   "cell_type": "code",
   "execution_count": 5,
   "metadata": {},
   "outputs": [
    {
     "output_type": "execute_result",
     "data": {
      "text/plain": [
       "b'\\xf0\\x9f\\x92\\xa9'"
      ]
     },
     "metadata": {},
     "execution_count": 5
    }
   ],
   "source": [
    "#12.2\n",
    "pop_bytes = pop_bytes1.encode('utf-8')\n",
    "pop_bytes"
   ]
  },
  {
   "cell_type": "code",
   "execution_count": 6,
   "metadata": {},
   "outputs": [],
   "source": [
    "# 12.4\n",
    "mammoth = \"\"\"\n",
    "We have seen the Queen of cheese,\n",
    "Laying quietly at your ease,\n",
    "Gently fanned by evening breeze,\n",
    "Thy fair form no flies dare seize.\n",
    "\n",
    "All gaily dressed soon you'll go\n",
    "To the great Provincial Show,\n",
    "To be admired by many a beau\n",
    "In the city of Toronto.\n",
    "\n",
    "Cows numerous as a swarm of bees,\n",
    "Or as the leaves upon the trees,\n",
    "It did require to make thee please,\n",
    "And stand unrivalled Queen of Cheese.\n",
    "\n",
    "May you not receive a scar as\n",
    "We have heard that Mr. Harris\n",
    "Intends to send you off as far as\n",
    "The great World's show at Paris.\n",
    "\n",
    "Of the youth beware of these,\n",
    "For some of them might rudely squeeze\n",
    "And bite your cheek; then songs or glees\n",
    "We could not sing o' Queen of Cheese.\n",
    "\n",
    "We'rt thou suspended from baloon,\n",
    "You'd cast a shade, even at noon,\n",
    "Folks would think it was the moon\n",
    "About to fall and crush them soon.\n",
    "\"\"\""
   ]
  },
  {
   "cell_type": "code",
   "execution_count": 30,
   "metadata": {},
   "outputs": [
    {
     "output_type": "execute_result",
     "data": {
      "text/plain": [
       "['cheese', 'cial', 'city', 'ceive', 'car', 'cheek', 'could', 'cast', 'crush']"
      ]
     },
     "metadata": {},
     "execution_count": 30
    }
   ],
   "source": [
    "import re \n",
    "re.findall('c\\w*',mammoth)\n",
    "#re.findall(r'r$',mammoth)"
   ]
  },
  {
   "cell_type": "code",
   "execution_count": 8,
   "metadata": {},
   "outputs": [
    {
     "output_type": "stream",
     "name": "stdout",
     "text": [
      "cial\ncity\ncast\n"
     ]
    }
   ],
   "source": [
    "#12.6\n",
    "for word in re.findall('c\\w*',mammoth) :   pat = r'\\bc\\w{3}\\b'\n",
    "    if len(word) == 4 :\n",
    "        print(word)"
   ]
  },
  {
   "cell_type": "code",
   "execution_count": 28,
   "metadata": {},
   "outputs": [
    {
     "output_type": "execute_result",
     "data": {
      "text/plain": [
       "['your', 'fair', 'Or', 'scar', 'Mr', 'far', 'For', 'your', 'or']"
      ]
     },
     "metadata": {},
     "execution_count": 28
    }
   ],
   "source": [
    "# 12.7\n",
    "end = r'\\b\\w*r\\b'\n",
    "re.findall(end,mammoth) \n"
   ]
  },
  {
   "cell_type": "code",
   "execution_count": 15,
   "metadata": {},
   "outputs": [
    {
     "output_type": "execute_result",
     "data": {
      "text/plain": [
       "['Queen', 'quietly', 'beau', 'Queen', 'squeeze', 'Queen']"
      ]
     },
     "metadata": {},
     "execution_count": 15
    }
   ],
   "source": [
    "#12.8\n",
    "pat = r'\\b\\w*[aeiou]{3}[^aeiou\\s]*\\w*\\b'\n",
    "re.findall(pat, mammoth)"
   ]
  },
  {
   "cell_type": "code",
   "execution_count": 16,
   "metadata": {},
   "outputs": [
    {
     "output_type": "execute_result",
     "data": {
      "text/plain": [
       "datetime.date(2020, 11, 5)"
      ]
     },
     "metadata": {},
     "execution_count": 16
    }
   ],
   "source": [
    "# 13.1\n",
    "from datetime import date\n",
    "now = date.today()\n",
    "now"
   ]
  },
  {
   "cell_type": "code",
   "execution_count": 47,
   "metadata": {},
   "outputs": [
    {
     "output_type": "stream",
     "name": "stdout",
     "text": [
      "2020-11-05\n"
     ]
    }
   ],
   "source": [
    "#13.1\n",
    "now_str =now.isoformat()\n",
    "with open('today.txt','wt') as file:\n",
    "    file.write(now_str)\n",
    "print(now_str)"
   ]
  },
  {
   "cell_type": "code",
   "execution_count": 49,
   "metadata": {},
   "outputs": [
    {
     "output_type": "execute_result",
     "data": {
      "text/plain": [
       "'2020-11-05'"
      ]
     },
     "metadata": {},
     "execution_count": 49
    }
   ],
   "source": [
    "#13.2 \n",
    "with open('today.txt','rt') as file:\n",
    "    today_string =file.read()\n",
    "today_string"
   ]
  },
  {
   "cell_type": "code",
   "execution_count": 60,
   "metadata": {},
   "outputs": [
    {
     "output_type": "stream",
     "name": "stdout",
     "text": [
      "time.struct_time(tm_year=2020, tm_mon=11, tm_mday=5, tm_hour=0, tm_min=0, tm_sec=0, tm_wday=3, tm_yday=310, tm_isdst=-1)\n"
     ]
    }
   ],
   "source": [
    "#13.3\n",
    "import time\n",
    "convert_time = time.strptime(today_string, '%Y-%m-%d' )\n",
    "print(convert_time)"
   ]
  },
  {
   "cell_type": "code",
   "execution_count": 38,
   "metadata": {},
   "outputs": [
    {
     "output_type": "execute_result",
     "data": {
      "text/plain": [
       "datetime.date(1988, 3, 28)"
      ]
     },
     "metadata": {},
     "execution_count": 38
    }
   ],
   "source": [
    "#13.4\n",
    "birthday = date(1988,3,28)\n",
    "birthday"
   ]
  },
  {
   "cell_type": "code",
   "execution_count": 36,
   "metadata": {},
   "outputs": [
    {
     "output_type": "execute_result",
     "data": {
      "text/plain": [
       "5"
      ]
     },
     "metadata": {},
     "execution_count": 36
    }
   ],
   "source": [
    "#13.5\n",
    "birthday.isoweekday() #금요일"
   ]
  },
  {
   "cell_type": "code",
   "execution_count": 39,
   "metadata": {},
   "outputs": [
    {
     "output_type": "execute_result",
     "data": {
      "text/plain": [
       "datetime.date(2015, 8, 14)"
      ]
     },
     "metadata": {},
     "execution_count": 39
    }
   ],
   "source": [
    "#13.6\n",
    "from datetime import timedelta\n",
    "suchung_day = birthday + timedelta(days =10000)\n",
    "suchung_day\n"
   ]
  },
  {
   "cell_type": "code",
   "execution_count": null,
   "metadata": {},
   "outputs": [],
   "source": []
  }
 ]
}