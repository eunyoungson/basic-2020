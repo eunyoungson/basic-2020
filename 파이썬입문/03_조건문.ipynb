{
 "cells": [
  {
   "cell_type": "markdown",
   "metadata": {},
   "source": [
    "## 조건문"
   ]
  },
  {
   "cell_type": "code",
   "execution_count": 1,
   "metadata": {},
   "outputs": [
    {
     "name": "stdout",
     "output_type": "stream",
     "text": [
      "정수입력>5\n"
     ]
    }
   ],
   "source": [
    "# 양수판별\n",
    "n=int(input(\"정수입력>\"))"
   ]
  },
  {
   "cell_type": "code",
   "execution_count": 2,
   "metadata": {},
   "outputs": [
    {
     "name": "stdout",
     "output_type": "stream",
     "text": [
      "5는 양수입니다\n"
     ]
    }
   ],
   "source": [
    "if n>0 :\n",
    "    print(\"%d는 양수입니다\"%n)\n",
    "else:\n",
    "    print(\"%d는 0또는 음수입니다.\"%n)\n",
    "# else와 print 의 위치를(줄맞춤) 잘 써야한다    "
   ]
  },
  {
   "cell_type": "code",
   "execution_count": 4,
   "metadata": {},
   "outputs": [
    {
     "name": "stdout",
     "output_type": "stream",
     "text": [
      "필기성적을 입력하세요85\n",
      "실기성적을 입력하세요75\n",
      "불합격\n"
     ]
    }
   ],
   "source": [
    "#논리 곱\n",
    "score1 = int(input(\"필기성적을 입력하세요\"))\n",
    "score2 = int(input(\"실기성적을 입력하세요\"))\n",
    "\n",
    "if (score1 >=80) and (score2 >=80):\n",
    "    print(\"합격\")\n",
    "else:\n",
    "    print(\"불합격\")\n",
    "        \n",
    " #if문에서 괄호를 써줌으로써 연산의 우선순위를 만들어주면,더 정확한 결과를 도출할 수 있다.   "
   ]
  },
  {
   "cell_type": "code",
   "execution_count": 8,
   "metadata": {},
   "outputs": [
    {
     "name": "stdout",
     "output_type": "stream",
     "text": [
      "이름을 입력하세요james\n"
     ]
    }
   ],
   "source": [
    "#논리부정\n",
    "\n",
    "name = None\n",
    "name= input(\"이름을 입력하세요\")"
   ]
  },
  {
   "cell_type": "code",
   "execution_count": 10,
   "metadata": {},
   "outputs": [
    {
     "name": "stdout",
     "output_type": "stream",
     "text": [
      "이름:james\n"
     ]
    }
   ],
   "source": [
    "if not name :\n",
    "    print(\"이름이 입력되지 않았습니다\")\n",
    "else:\n",
    "    print(\"이름:%s\" %name)"
   ]
  },
  {
   "cell_type": "code",
   "execution_count": 11,
   "metadata": {},
   "outputs": [
    {
     "name": "stdout",
     "output_type": "stream",
     "text": [
      "정수입력>0\n"
     ]
    }
   ],
   "source": [
    "# 양수,0, 음수판별\n",
    "n=int(input(\"정수입력>\"))"
   ]
  },
  {
   "cell_type": "code",
   "execution_count": 13,
   "metadata": {},
   "outputs": [
    {
     "name": "stdout",
     "output_type": "stream",
     "text": [
      "0입니다\n"
     ]
    }
   ],
   "source": [
    "if n>0 :\n",
    "    print(\"%d는 양수입니다\"%n)\n",
    "elif n == 0:\n",
    "    print(\"0입니다\")\n",
    "else:\n",
    "    print(\"%d는 음수입니다.\"%n)\n",
    "#elif =>else if"
   ]
  },
  {
   "cell_type": "code",
   "execution_count": 18,
   "metadata": {},
   "outputs": [
    {
     "name": "stdout",
     "output_type": "stream",
     "text": [
      "점수를 입력하세요74\n",
      "점수:C\n"
     ]
    }
   ],
   "source": [
    "score = int(input(\"점수를 입력하세요\"))\n",
    "\n",
    "if score >= 90 and score<=100 :\n",
    "    print(\"점수:A\")\n",
    "if score >= 80 and score<90 :\n",
    "    print(\"점수:B\")\n",
    "if score >= 70 and score<80 :\n",
    "    print(\"점수:C\")\n",
    "if score >= 60 and score<70 :\n",
    "    print(\"점수:D\")\n",
    "if  score<60 :\n",
    "    print(\"점수:F\")\n",
    "#elif와 else를 써서 나타내는 방법도 있다.c3-p18   \n"
   ]
  },
  {
   "cell_type": "code",
   "execution_count": 2,
   "metadata": {},
   "outputs": [
    {
     "name": "stdout",
     "output_type": "stream",
     "text": [
      "숫자>2\n",
      "숫자>3\n",
      "숫자>4\n"
     ]
    }
   ],
   "source": [
    "#세 수의 합과 평균\n",
    "x=int(input(\"숫자>\"))\n",
    "y=int(input(\"숫자>\"))\n",
    "z=int(input(\"숫자>\"))"
   ]
  },
  {
   "cell_type": "code",
   "execution_count": 22,
   "metadata": {},
   "outputs": [
    {
     "name": "stdout",
     "output_type": "stream",
     "text": [
      "세개 숫자 입력45 89 38\n"
     ]
    }
   ],
   "source": [
    "x,y,z = input(\"세개 숫자 입력\").split()"
   ]
  },
  {
   "cell_type": "code",
   "execution_count": 23,
   "metadata": {},
   "outputs": [
    {
     "name": "stdout",
     "output_type": "stream",
     "text": [
      "45 89 38\n"
     ]
    }
   ],
   "source": [
    "print(x,y,z)"
   ]
  },
  {
   "cell_type": "code",
   "execution_count": 24,
   "metadata": {},
   "outputs": [
    {
     "data": {
      "text/plain": [
       "(45, 89, 38)"
      ]
     },
     "execution_count": 24,
     "metadata": {},
     "output_type": "execute_result"
    }
   ],
   "source": [
    "int(x),int(y),int(z)"
   ]
  },
  {
   "cell_type": "code",
   "execution_count": 2,
   "metadata": {},
   "outputs": [
    {
     "name": "stdout",
     "output_type": "stream",
     "text": [
      "세개 숫자 입력45 65 36\n"
     ]
    },
    {
     "data": {
      "text/plain": [
       "(45, 65, 36)"
      ]
     },
     "execution_count": 2,
     "metadata": {},
     "output_type": "execute_result"
    }
   ],
   "source": [
    "x, y, z = map(int, input(\"세개 숫자 입력\").split())\n",
    "x, y, z"
   ]
  },
  {
   "cell_type": "code",
   "execution_count": 4,
   "metadata": {},
   "outputs": [
    {
     "data": {
      "text/plain": [
       "(146, 48.666666666666664)"
      ]
     },
     "execution_count": 4,
     "metadata": {},
     "output_type": "execute_result"
    }
   ],
   "source": [
    "sum= x+y+z\n",
    "avg= sum/3\n",
    "sum,avg"
   ]
  },
  {
   "cell_type": "code",
   "execution_count": 7,
   "metadata": {},
   "outputs": [
    {
     "data": {
      "text/plain": [
       "(2020, 8, 28)"
      ]
     },
     "execution_count": 7,
     "metadata": {},
     "output_type": "execute_result"
    }
   ],
   "source": [
    "#만 나이 계산\n",
    "current_year =2020\n",
    "current_month = 8\n",
    "current_day =28\n",
    "current_year,current_month,current_day"
   ]
  },
  {
   "cell_type": "code",
   "execution_count": 9,
   "metadata": {},
   "outputs": [
    {
     "name": "stdout",
     "output_type": "stream",
     "text": [
      "생일입력2000 7 31\n"
     ]
    },
    {
     "data": {
      "text/plain": [
       "(2000, 7, 31)"
      ]
     },
     "execution_count": 9,
     "metadata": {},
     "output_type": "execute_result"
    }
   ],
   "source": [
    "year,month, day = map(int, input(\"생일입력\").split())\n",
    "year, month, day"
   ]
  },
  {
   "cell_type": "code",
   "execution_count": 10,
   "metadata": {},
   "outputs": [],
   "source": [
    "if current_month > month :\n",
    "    age= current_year - year\n",
    "elif current_month < month:\n",
    "    age= current_year - year -1\n",
    "elif current_day < day:\n",
    "    age= current_year - year -1\n",
    "else:\n",
    "    age = current_year - year"
   ]
  },
  {
   "cell_type": "code",
   "execution_count": 11,
   "metadata": {},
   "outputs": [
    {
     "data": {
      "text/plain": [
       "20"
      ]
     },
     "execution_count": 11,
     "metadata": {},
     "output_type": "execute_result"
    }
   ],
   "source": [
    "age"
   ]
  },
  {
   "cell_type": "code",
   "execution_count": 13,
   "metadata": {},
   "outputs": [
    {
     "data": {
      "text/plain": [
       "20"
      ]
     },
     "execution_count": 13,
     "metadata": {},
     "output_type": "execute_result"
    }
   ],
   "source": [
    "if current_month > month : #현재월 >생일월\n",
    "    age= current_year - year\n",
    "elif current_month < month: #현재월 <생일월\n",
    "    age= current_year - year -1\n",
    "else:                           #현재월 =생일월\n",
    "    if current_day < day:            #현재일 <생일\n",
    "        age= current_year - year -1\n",
    "    else:                            #현재일 >=생일\n",
    "        age = current_year - year\n",
    "age"
   ]
  },
  {
   "cell_type": "code",
   "execution_count": 14,
   "metadata": {},
   "outputs": [
    {
     "data": {
      "text/plain": [
       "datetime.datetime(2020, 8, 28, 11, 19, 21, 530131)"
      ]
     },
     "execution_count": 14,
     "metadata": {},
     "output_type": "execute_result"
    }
   ],
   "source": [
    "#파이썬 datetime 모듈\n",
    "import datetime\n",
    "datetime.datetime.now()"
   ]
  },
  {
   "cell_type": "code",
   "execution_count": 15,
   "metadata": {},
   "outputs": [],
   "source": [
    "current_year = datetime.datetime.now().year\n",
    "current_month = datetime.datetime.now().month\n",
    "current_day = datetime.datetime.now().day"
   ]
  },
  {
   "cell_type": "code",
   "execution_count": null,
   "metadata": {},
   "outputs": [],
   "source": [
    "year,month,day = map(int, input(\"생일입력\").split())\n",
    "year,month,day"
   ]
  },
  {
   "cell_type": "code",
   "execution_count": null,
   "metadata": {},
   "outputs": [],
   "source": [
    "if current_month > month : #현재월 >생일월\n",
    "    age= current_year - year\n",
    "elif current_month < month: #현재월 <생일월\n",
    "    age= current_year - year -1\n",
    "else:                           #현재월 =생일월\n",
    "    if current_day < day:            #현재일 <생일\n",
    "        age= current_year - year -1\n",
    "    else:                            #현재일 >=생일\n",
    "        age = current_year - year"
   ]
  },
  {
   "cell_type": "code",
   "execution_count": null,
   "metadata": {},
   "outputs": [],
   "source": [
    "\n",
    "print(\"현재날짜 : %d-%d-%d\"%(current_year,current_month,current_day))\n",
    "print(\"출생날짜 : %d-%d-%d\" %(year,month,day))\n",
    "\n",
    "print( \"사용자의 나이 : 만 %d세 입니다\" %age)"
   ]
  },
  {
   "cell_type": "code",
   "execution_count": 1,
   "metadata": {},
   "outputs": [
    {
     "name": "stdout",
     "output_type": "stream",
     "text": [
      "생일 6자리숫자>800328\n"
     ]
    },
    {
     "data": {
      "text/plain": [
       "(1980, 3, 28)"
      ]
     },
     "execution_count": 1,
     "metadata": {},
     "output_type": "execute_result"
    }
   ],
   "source": [
    "#생일 6자리 숫자로 받아서 처리하기\n",
    "birthday = input(\"생일 6자리숫자>\")\n",
    "# if len(birthday) == 8:\n",
    "    \n",
    "# elif len(birthday) == 6:\n",
    "    \n",
    "year=int(birthday[:2])\n",
    "if year <= 20:\n",
    "    year +=2000\n",
    "else :\n",
    "    year +=1900\n",
    "month=int(birthday[2:4])\n",
    "day=int(birthday[4:])\n",
    "year,month,day"
   ]
  },
  {
   "cell_type": "code",
   "execution_count": 7,
   "metadata": {},
   "outputs": [
    {
     "name": "stdout",
     "output_type": "stream",
     "text": [
      "생일 (6,7,8자리 숫자)>200328\n",
      "2020 3 28\n"
     ]
    }
   ],
   "source": [
    "# 생일 임의의 연속된 숫자로 받아서 처리하기\n",
    "birthday = input(\"생일 (6,7,8자리 숫자)>\")\n",
    "if len(birthday) == 6:\n",
    "    year=int(birthday[:2])\n",
    "    if year <= 20:\n",
    "        year +=2000\n",
    "    else :\n",
    "        year +=1900\n",
    "    month=int(birthday[2:4])\n",
    "    day=int(birthday[4:])\n",
    "elif len(birthday) ==7:\n",
    "    year=int(birthday[:2])\n",
    "    if int(birthday[-1]) > 2 :\n",
    "        year +=2000\n",
    "    else :\n",
    "        year +=1900\n",
    "    month=int(birthday[2:4])\n",
    "    day=int(birthday[4:6])\n",
    "else:\n",
    "    year = int(birthday[:4])\n",
    "    month = int(birthday[4:6])\n",
    "    day = int(birthday[6:8])\n",
    "    \n",
    "print(year,month,day)\n",
    "    "
   ]
  },
  {
   "cell_type": "code",
   "execution_count": 14,
   "metadata": {},
   "outputs": [
    {
     "name": "stdout",
     "output_type": "stream",
     "text": [
      "월을 입력하세요:8\n",
      "8월은 여름입니다\n"
     ]
    }
   ],
   "source": [
    "#1\n",
    "month = int(input(\"월을 입력하세요:\"))\n",
    "if month >= 3 and month <= 5 :\n",
    "    print(\"%d월은 봄입니다\" %month)\n",
    "if month >= 6 and month <= 8 :\n",
    "    print(\"%d월은 여름입니다\" %month)\n",
    "if month >= 9 and month <= 11 :\n",
    "    print(\"%d월은 가을입니다\" %month)\n",
    "if month >= 12 and month == 5 or month == 2 :\n",
    "    print(\"%d월은 겨울입니다\" %month)"
   ]
  },
  {
   "cell_type": "code",
   "execution_count": 16,
   "metadata": {},
   "outputs": [
    {
     "name": "stdout",
     "output_type": "stream",
     "text": [
      "좌석 종류를 입력해주세요(1:일반실, 2:특실):일반실\n",
      "일반실입니다\n"
     ]
    }
   ],
   "source": [
    "a= input(\"좌석 종류를 입력해주세요(1:일반실, 2:특실):\")\n",
    "\n",
    "seat1 = \"일반실\"\n",
    "seat2 = \"특실\"\n",
    "\n",
    "if a== seat1 :\n",
    "    print(\"%s입니다\"%seat1)\n",
    "\n",
    "if a== seat2 :\n",
    "    print(\"%s입니다\"%seat2)"
   ]
  },
  {
   "cell_type": "code",
   "execution_count": null,
   "metadata": {},
   "outputs": [],
   "source": [
    "a = input(\"좌석 종류\")"
   ]
  }
 ],
 "metadata": {
  "kernelspec": {
   "display_name": "Python 3",
   "language": "python",
   "name": "python3"
  },
  "language_info": {
   "codemirror_mode": {
    "name": "ipython",
    "version": 3
   },
   "file_extension": ".py",
   "mimetype": "text/x-python",
   "name": "python",
   "nbconvert_exporter": "python",
   "pygments_lexer": "ipython3",
   "version": "3.8.3"
  }
 },
 "nbformat": 4,
 "nbformat_minor": 4
}
