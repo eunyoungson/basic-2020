{
 "cells": [
  {
   "cell_type": "markdown",
   "metadata": {},
   "source": [
    "## 27. 파일사용하기"
   ]
  },
  {
   "cell_type": "code",
   "execution_count": 1,
   "metadata": {},
   "outputs": [],
   "source": [
    "file = open('hello.txt', 'w')    # hello.txt 파일을 쓰기 모드(w)로 열기. 파일 객체 반환\n",
    "file.write('Hello, world!')      # 파일에 문자열 저장\n",
    "file.close()   "
   ]
  },
  {
   "cell_type": "code",
   "execution_count": 2,
   "metadata": {},
   "outputs": [
    {
     "name": "stdout",
     "output_type": "stream",
     "text": [
      "Hello, world!\n"
     ]
    }
   ],
   "source": [
    "file = open('hello.txt', 'r')    # hello.txt 파일을 읽기 모드(r)로 열기. 파일 객체 반환\n",
    "s = file.read()                  # 파일에서 문자열 읽기\n",
    "print(s)                         # Hello, world!\n",
    "file.close()                     # 파일 객체 닫기"
   ]
  },
  {
   "cell_type": "code",
   "execution_count": 3,
   "metadata": {},
   "outputs": [
    {
     "name": "stdout",
     "output_type": "stream",
     "text": [
      "Hello, world!\n"
     ]
    }
   ],
   "source": [
    "with open('hello.txt', 'r') as file:    # hello.txt 파일을 읽기 모드(r)로 열기\n",
    "    s = file.read()                     # 파일에서 문자열 읽기\n",
    "    print(s)   "
   ]
  },
  {
   "cell_type": "code",
   "execution_count": 4,
   "metadata": {},
   "outputs": [],
   "source": [
    "with open('hello.txt', 'w') as file:\n",
    "    for i in range(3):\n",
    "        file.write(f'Hello, world! {i+1}\\n')"
   ]
  },
  {
   "cell_type": "code",
   "execution_count": 5,
   "metadata": {},
   "outputs": [],
   "source": [
    "lines = ['안녕하세요.\\n','파이썬\\n','코딩도장입니다.\\n']\n",
    "with open('hello.txt','w') as file:\n",
    "    for i in range(2):\n",
    "        file.writelines(lines)"
   ]
  },
  {
   "cell_type": "code",
   "execution_count": 6,
   "metadata": {},
   "outputs": [
    {
     "name": "stdout",
     "output_type": "stream",
     "text": [
      "['안녕하세요.\\n', '파이썬\\n', '코딩도장입니다.\\n', '안녕하세요.\\n', '파이썬\\n', '코딩도장입니다.\\n']\n"
     ]
    }
   ],
   "source": [
    "#파일의 내용을 한 줄씩 리스트로 가져오기\n",
    "with open('hello.txt', 'r') as file:    # hello.txt 파일을 읽기 모드(r)로 열기\n",
    "    lines = file.readlines()\n",
    "    print(lines)"
   ]
  },
  {
   "cell_type": "code",
   "execution_count": 7,
   "metadata": {},
   "outputs": [
    {
     "name": "stdout",
     "output_type": "stream",
     "text": [
      "안녕하세요.\n",
      "파이썬\n",
      "코딩도장입니다.\n",
      "안녕하세요.\n",
      "파이썬\n",
      "코딩도장입니다.\n",
      "\n"
     ]
    }
   ],
   "source": [
    "with open('hello.txt', 'r') as file:    # hello.txt 파일을 읽기 모드(r)로 열기\n",
    "    line = None    # 변수 line을 None으로 초기화\n",
    "    while line != '':\n",
    "        line = file.readline()\n",
    "        print(line.strip('\\n'))    # 파일에서 읽어온 문자열에서 \\n 삭제하여 출력"
   ]
  },
  {
   "cell_type": "code",
   "execution_count": 8,
   "metadata": {},
   "outputs": [
    {
     "data": {
      "text/plain": [
       "str"
      ]
     },
     "execution_count": 8,
     "metadata": {},
     "output_type": "execute_result"
    }
   ],
   "source": [
    "type(line) #readline 일 경우 스트링으로 읽는다."
   ]
  },
  {
   "cell_type": "code",
   "execution_count": 9,
   "metadata": {},
   "outputs": [
    {
     "name": "stdout",
     "output_type": "stream",
     "text": [
      "안녕하세요.\n",
      "파이썬\n",
      "코딩도장입니다.\n",
      "안녕하세요.\n",
      "파이썬\n",
      "코딩도장입니다.\n"
     ]
    }
   ],
   "source": [
    "with open('hello.txt','r') as file:\n",
    "    for line in file:\n",
    "        print(line.strip('\\n'))"
   ]
  },
  {
   "cell_type": "code",
   "execution_count": 10,
   "metadata": {},
   "outputs": [],
   "source": [
    "#피클링 : 모델을 학습시킨것을 파일로 보과할 수 있게 만드는 것을 피클링이라 한다."
   ]
  },
  {
   "cell_type": "code",
   "execution_count": 11,
   "metadata": {},
   "outputs": [],
   "source": [
    "import pickle\n",
    " \n",
    "name = 'james'\n",
    "age = 17\n",
    "address = '서울시 서초구 반포동'\n",
    "scores = {'korean': 90, 'english': 95, 'mathematics': 85, 'science': 82}\n",
    " \n",
    "with open('james.p', 'wb') as file:    # james.p 파일을 바이너리 쓰기 모드(wb)로 열기\n",
    "    pickle.dump(name, file)\n",
    "    pickle.dump(age, file)\n",
    "    pickle.dump(address, file)\n",
    "    pickle.dump(scores, file)"
   ]
  },
  {
   "cell_type": "code",
   "execution_count": 12,
   "metadata": {},
   "outputs": [
    {
     "name": "stdout",
     "output_type": "stream",
     "text": [
      "james\n",
      "17\n",
      "서울시 서초구 반포동\n",
      "{'korean': 90, 'english': 95, 'mathematics': 85, 'science': 82}\n"
     ]
    }
   ],
   "source": [
    "import pickle\n",
    " \n",
    "with open('james.p', 'rb') as file:    # james.p 파일을 바이너리 읽기 모드(rb)로 열기\n",
    "    name = pickle.load(file)\n",
    "    age = pickle.load(file)\n",
    "    address = pickle.load(file)\n",
    "    scores = pickle.load(file)\n",
    "    print(name)\n",
    "    print(age)\n",
    "    print(address)\n",
    "    print(scores)"
   ]
  },
  {
   "cell_type": "code",
   "execution_count": 13,
   "metadata": {},
   "outputs": [],
   "source": [
    "james_p ={'name':'james','age':17, 'address':'서울시 서초구 반포동','scores': {'korean': 90, 'english': 95, 'mathematics': 85, 'science': 82}}\n",
    "with open('james.p', 'wb') as file:\n",
    "    pickle.dump(james_p, file)"
   ]
  },
  {
   "cell_type": "code",
   "execution_count": 14,
   "metadata": {},
   "outputs": [
    {
     "name": "stdout",
     "output_type": "stream",
     "text": [
      "{'name': 'james', 'age': 17, 'address': '서울시 서초구 반포동', 'scores': {'korean': 90, 'english': 95, 'mathematics': 85, 'science': 82}}\n"
     ]
    }
   ],
   "source": [
    "with open('james.p', 'rb') as file:    # james.p 파일을 바이너리 읽기 모드(rb)로 열기\n",
    "    james_p = pickle.load(file)\n",
    "print(james_p)"
   ]
  },
  {
   "cell_type": "markdown",
   "metadata": {},
   "source": [
    "json 형태로 변환/복원"
   ]
  },
  {
   "cell_type": "code",
   "execution_count": 15,
   "metadata": {},
   "outputs": [
    {
     "name": "stdout",
     "output_type": "stream",
     "text": [
      "{\"name\": \"james\", \"age\": 17, \"address\": \"\\uc11c\\uc6b8\\uc2dc \\uc11c\\ucd08\\uad6c \\ubc18\\ud3ec\\ub3d9\", \"scores\": {\"korean\": 90, \"english\": 95, \"mathematics\": 85, \"science\": 82}}\n"
     ]
    }
   ],
   "source": [
    "import json\n",
    "james_json = json.dumps(james_p) #dumps !\n",
    "print(james_json)"
   ]
  },
  {
   "cell_type": "code",
   "execution_count": 17,
   "metadata": {},
   "outputs": [],
   "source": [
    "with open('hello.txt','w') as file:\n",
    "    file.write(james_json)"
   ]
  },
  {
   "cell_type": "code",
   "execution_count": 18,
   "metadata": {},
   "outputs": [
    {
     "name": "stdout",
     "output_type": "stream",
     "text": [
      "{\"name\": \"james\", \"age\": 17, \"address\": \"\\uc11c\\uc6b8\\uc2dc \\uc11c\\ucd08\\uad6c \\ubc18\\ud3ec\\ub3d9\", \"scores\": {\"korean\": 90, \"english\": 95, \"mathematics\": 85, \"science\": 82}}\n"
     ]
    }
   ],
   "source": [
    "with open('hello.txt','r') as file:\n",
    "    james_str = file.read()\n",
    "print(james_str)"
   ]
  },
  {
   "cell_type": "code",
   "execution_count": 20,
   "metadata": {},
   "outputs": [
    {
     "name": "stdout",
     "output_type": "stream",
     "text": [
      "{'name': 'james', 'age': 17, 'address': '서울시 서초구 반포동', 'scores': {'korean': 90, 'english': 95, 'mathematics': 85, 'science': 82}}\n"
     ]
    }
   ],
   "source": [
    "james =json.loads(james_str) #loads!\n",
    "print(james)"
   ]
  },
  {
   "cell_type": "code",
   "execution_count": null,
   "metadata": {},
   "outputs": [],
   "source": []
  }
 ],
 "metadata": {
  "kernelspec": {
   "display_name": "Python 3",
   "language": "python",
   "name": "python3"
  },
  "language_info": {
   "codemirror_mode": {
    "name": "ipython",
    "version": 3
   },
   "file_extension": ".py",
   "mimetype": "text/x-python",
   "name": "python",
   "nbconvert_exporter": "python",
   "pygments_lexer": "ipython3",
   "version": "3.8.3"
  }
 },
 "nbformat": 4,
 "nbformat_minor": 4
}
