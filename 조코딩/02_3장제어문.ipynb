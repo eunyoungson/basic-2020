{
 "metadata": {
  "language_info": {
   "codemirror_mode": {
    "name": "ipython",
    "version": 3
   },
   "file_extension": ".py",
   "mimetype": "text/x-python",
   "name": "python",
   "nbconvert_exporter": "python",
   "pygments_lexer": "ipython3",
   "version": "3.8.3-final"
  },
  "orig_nbformat": 2,
  "kernelspec": {
   "name": "python3",
   "display_name": "Python 3"
  }
 },
 "nbformat": 4,
 "nbformat_minor": 2,
 "cells": [
  {
   "source": [
    "<예제> 주머니에 돈이 있으면 가만히 있고, 돈이 없으면 카드를 꺼내라"
   ],
   "cell_type": "markdown",
   "metadata": {}
  },
  {
   "cell_type": "code",
   "execution_count": 2,
   "metadata": {},
   "outputs": [
    {
     "output_type": "stream",
     "name": "stdout",
     "text": [
      "가만히 있어라\n"
     ]
    }
   ],
   "source": [
    "pocket = ['notebook','phone','money','mirror']\n",
    "if 'money' in pocket :\n",
    "    print('가만히 있어라')  # or : pass \n",
    "else :\n",
    "    print('카드를 꺼내라')"
   ]
  },
  {
   "source": [
    "<예제> 주머니에 돈이 있으면 택시를 타고, 주머니에 돈은 없지만 카드가 있으면 택시를 타고, 돈도 없고 카드도 없으면 걸어가라."
   ],
   "cell_type": "markdown",
   "metadata": {}
  },
  {
   "cell_type": "code",
   "execution_count": 6,
   "metadata": {},
   "outputs": [
    {
     "output_type": "stream",
     "name": "stdout",
     "text": [
      "걸어가라\n"
     ]
    }
   ],
   "source": [
    "pocket = ['notebook','phone','mirror']\n",
    "if 'money' in pocket :\n",
    "    print('택시을 타라')  # or : pass \n",
    "elif 'card' in pocket : #elif card:\n",
    "    print('택시을 타라') \n",
    "else :\n",
    "    print('걸어가라')"
   ]
  },
  {
   "source": [
    "<예제> 성적이 60점 이산이면 통과"
   ],
   "cell_type": "markdown",
   "metadata": {}
  },
  {
   "cell_type": "code",
   "execution_count": 8,
   "metadata": {},
   "outputs": [
    {
     "output_type": "stream",
     "name": "stdout",
     "text": [
      "success\n"
     ]
    }
   ],
   "source": [
    "score = 75\n",
    "message = 'success' if  score>=60 else 'failure'\n",
    "print(message)"
   ]
  },
  {
   "source": [
    "<예제> '열번 찍어 안넘어가는 나무 없다'를 프로그램으로 만들자."
   ],
   "cell_type": "markdown",
   "metadata": {}
  },
  {
   "cell_type": "code",
   "execution_count": 17,
   "metadata": {},
   "outputs": [
    {
     "output_type": "stream",
     "name": "stdout",
     "text": [
      "나무를 0 번 찍었습니다.\n나무를 1 번 찍었습니다.\n나무를 2 번 찍었습니다.\n나무를 3 번 찍었습니다.\n나무를 4 번 찍었습니다.\n나무를 5 번 찍었습니다.\n나무를 6 번 찍었습니다.\n나무를 7 번 찍었습니다.\n나무를 8 번 찍었습니다.\n나무를 9 번 찍었습니다.\n나무가 넘어갑니다\n"
     ]
    }
   ],
   "source": [
    "i = 0\n",
    "while i<10 :\n",
    "    i += 1\n",
    "    print('나무를 %d 번 찍었습니다.'%i)\n",
    "    if i == 10 :\n",
    "        print('나무가 넘어갑니다')"
   ]
  },
  {
   "cell_type": "code",
   "execution_count": 18,
   "metadata": {},
   "outputs": [
    {
     "output_type": "stream",
     "name": "stdout",
     "text": [
      "나무를 0 번 찍었습니다.\n"
     ]
    }
   ],
   "source": [
    "i = 0\n",
    "if i < 10 :\n",
    "    i += 1\n",
    "    print('나무를 %d 번 찍었습니다.'%i)\n",
    "else :\n",
    "    print('나무가 넘어갑니다')"
   ]
  },
  {
   "cell_type": "code",
   "execution_count": null,
   "metadata": {},
   "outputs": [],
   "source": []
  },
  {
   "cell_type": "code",
   "execution_count": null,
   "metadata": {},
   "outputs": [],
   "source": []
  }
 ]
}