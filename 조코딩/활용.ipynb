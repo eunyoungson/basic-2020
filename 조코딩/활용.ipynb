{
 "metadata": {
  "language_info": {
   "codemirror_mode": {
    "name": "ipython",
    "version": 3
   },
   "file_extension": ".py",
   "mimetype": "text/x-python",
   "name": "python",
   "nbconvert_exporter": "python",
   "pygments_lexer": "ipython3",
   "version": "3.8.3-final"
  },
  "orig_nbformat": 2,
  "kernelspec": {
   "name": "python3",
   "display_name": "Python 3"
  }
 },
 "nbformat": 4,
 "nbformat_minor": 2,
 "cells": [
  {
   "source": [
    "# 구구단 만들기"
   ],
   "cell_type": "markdown",
   "metadata": {}
  },
  {
   "cell_type": "code",
   "execution_count": 5,
   "metadata": {},
   "outputs": [
    {
     "output_type": "execute_result",
     "data": {
      "text/plain": [
       "[2, 4, 6, 8, 10, 12, 14, 16, 18]"
      ]
     },
     "metadata": {},
     "execution_count": 5
    }
   ],
   "source": [
    "def GuGu(n) :\n",
    "    result =[]\n",
    "    i = 1\n",
    "    while i < 10 :\n",
    "        result.append(i * n)\n",
    "        i += 1\n",
    "    return result\n",
    "GuGu(2)"
   ]
  },
  {
   "cell_type": "code",
   "execution_count": 6,
   "metadata": {},
   "outputs": [
    {
     "output_type": "execute_result",
     "data": {
      "text/plain": [
       "[2, 4, 6, 8, 10, 12, 14, 16, 18]"
      ]
     },
     "metadata": {},
     "execution_count": 6
    }
   ],
   "source": [
    "def GuGu(n) :\n",
    "    result =[]\n",
    "    for i in range(1,10) :\n",
    "        result.append(i * n)       \n",
    "    return result\n",
    "GuGu(2)"
   ]
  },
  {
   "source": [
    "### 2. 3 과 5 의 배수 합 구하기"
   ],
   "cell_type": "markdown",
   "metadata": {}
  },
  {
   "cell_type": "code",
   "execution_count": 7,
   "metadata": {},
   "outputs": [
    {
     "output_type": "stream",
     "name": "stdout",
     "text": [
      "233168\n"
     ]
    }
   ],
   "source": [
    "result = 0\n",
    "for n in range(1,1000) :\n",
    "     if n % 3 == 0  or n % 5 == 0 :\n",
    "        result += n\n",
    "print(result)"
   ]
  },
  {
   "source": [
    "### 3. 게시판 페이징 하기"
   ],
   "cell_type": "markdown",
   "metadata": {}
  },
  {
   "cell_type": "code",
   "execution_count": 8,
   "metadata": {},
   "outputs": [],
   "source": [
    "# 함수 이름: GetTotalPage \n",
    "# 입력받는 값 :  게시물의 총 건수(m), 한 페이지에 보여줄 게시물 수(n)\n",
    "#출력하는 값 : 총 페이지 수"
   ]
  },
  {
   "cell_type": "code",
   "execution_count": null,
   "metadata": {},
   "outputs": [],
   "source": [
    "def getTotalPage(m, n) :\n",
    "    "
   ]
  }
 ]
}