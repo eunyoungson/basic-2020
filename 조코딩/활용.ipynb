{
 "metadata": {
  "language_info": {
   "codemirror_mode": {
    "name": "ipython",
    "version": 3
   },
   "file_extension": ".py",
   "mimetype": "text/x-python",
   "name": "python",
   "nbconvert_exporter": "python",
   "pygments_lexer": "ipython3",
   "version": "3.8.3-final"
  },
  "orig_nbformat": 2,
  "kernelspec": {
   "name": "python3",
   "display_name": "Python 3"
  }
 },
 "nbformat": 4,
 "nbformat_minor": 2,
 "cells": [
  {
   "source": [
    "# 구구단 만들기"
   ],
   "cell_type": "markdown",
   "metadata": {}
  },
  {
   "cell_type": "code",
   "execution_count": 5,
   "metadata": {},
   "outputs": [
    {
     "output_type": "execute_result",
     "data": {
      "text/plain": [
       "[2, 4, 6, 8, 10, 12, 14, 16, 18]"
      ]
     },
     "metadata": {},
     "execution_count": 5
    }
   ],
   "source": [
    "def GuGu(n) :\n",
    "    result =[]\n",
    "    i = 1\n",
    "    while i < 10 :\n",
    "        result.append(i * n)\n",
    "        i += 1\n",
    "    return result\n",
    "GuGu(2)"
   ]
  },
  {
   "cell_type": "code",
   "execution_count": 6,
   "metadata": {},
   "outputs": [
    {
     "output_type": "execute_result",
     "data": {
      "text/plain": [
       "[2, 4, 6, 8, 10, 12, 14, 16, 18]"
      ]
     },
     "metadata": {},
     "execution_count": 6
    }
   ],
   "source": [
    "def GuGu(n) :\n",
    "    result =[]\n",
    "    for i in range(1,10) :\n",
    "        result.append(i * n)       \n",
    "    return result\n",
    "GuGu(2)"
   ]
  },
  {
   "source": [
    "### 2. 3 과 5 의 배수 합 구하기"
   ],
   "cell_type": "markdown",
   "metadata": {}
  },
  {
   "cell_type": "code",
   "execution_count": 7,
   "metadata": {},
   "outputs": [
    {
     "output_type": "stream",
     "name": "stdout",
     "text": [
      "233168\n"
     ]
    }
   ],
   "source": [
    "result = 0\n",
    "for n in range(1,1000) :\n",
    "     if n % 3 == 0  or n % 5 == 0 :\n",
    "        result += n\n",
    "print(result)"
   ]
  },
  {
   "source": [
    "### 3. 게시판 페이징 하기"
   ],
   "cell_type": "markdown",
   "metadata": {}
  },
  {
   "cell_type": "code",
   "execution_count": 8,
   "metadata": {},
   "outputs": [],
   "source": [
    "# 함수 이름: GetTotalPage \n",
    "# 입력받는 값 :  게시물의 총 건수(m), 한 페이지에 보여줄 게시물 수(n)\n",
    "#출력하는 값 : 총 페이지 수"
   ]
  },
  {
   "cell_type": "code",
   "execution_count": 3,
   "metadata": {},
   "outputs": [
    {
     "output_type": "stream",
     "name": "stdout",
     "text": [
      "1\n2\n3\n3\n"
     ]
    }
   ],
   "source": [
    "def getTotalPage(m, n) :\n",
    "    if m % n == 0:\n",
    "        return m // n\n",
    "    else:\n",
    "        return  m//n + 1\n",
    "print (getTotalPage(5,10))\n",
    "print (getTotalPage(15,10))\n",
    "print (getTotalPage(25,10))\n",
    "print (getTotalPage(30,10)) "
   ]
  },
  {
   "cell_type": "code",
   "execution_count": 4,
   "metadata": {},
   "outputs": [],
   "source": [
    "# 정규표현식\n",
    "# ca*t ct 안의 a 가 0번 이상 반복될때 (ct 도 가능)\n",
    "# ca{2}t  a 가 2번 반복. ca{2,5}\n",
    "# ab?c b 가 0 or 1번 사용되어 매치. ? == {0,1}"
   ]
  },
  {
   "cell_type": "code",
   "execution_count": null,
   "metadata": {},
   "outputs": [],
   "source": [
    "# import re\n",
    "# p = re.compile('[a-z]+')\n",
    "# m = p.search('python')\n",
    "#print(m)\n",
    "\n",
    "#match -> 똑같은지 아닌지,\n",
    "#search -> 찾는게 있는지 없는지,\n",
    "#findall -> 일치하는것을 리스트에 담아서 출력해 준다.\n",
    "#finditer -> 매치 객체로 리턴한다."
   ]
  },
  {
   "cell_type": "code",
   "execution_count": null,
   "metadata": {},
   "outputs": [],
   "source": [
    "# import re\n",
    "# p = re.compile('[a-z]+', 옵션)\n",
    "# m = p.finditer('python')\n",
    "# for r in m:\n",
    "#   print(r)"
   ]
  },
  {
   "cell_type": "code",
   "execution_count": null,
   "metadata": {},
   "outputs": [],
   "source": [
    "# ^ 처음 , \\s 공백 \\w+ 단어의 반복\n",
    "# 메타 문자  \n",
    "# r'' 사용\n",
    "# $ 맨 끝 , \\b 공백 \n",
    "\n",
    "# import re\n",
    "# p = re.compile(r'\\bclass\\b')\n",
    "# print(p.search('no class at all')) -> 일치\n"
   ]
  }
 ]
}